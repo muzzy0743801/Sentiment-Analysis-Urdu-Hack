{
  "cells": [
    {
      "cell_type": "code",
      "execution_count": null,
      "id": "fdfedd09",
      "metadata": {
        "id": "fdfedd09"
      },
      "outputs": [],
      "source": [
        "import pandas as pd\n",
        "import numpy as np\n",
        "\n",
        "# Import Plotting Libararies\n",
        "import seaborn as sns\n",
        "import matplotlib.pyplot as plt\n",
        "\n",
        "# Import Data Preprocessing Libraries\n",
        "from sklearn.preprocessing import LabelEncoder\n",
        "from sklearn.model_selection import train_test_split\n",
        "from sklearn.feature_extraction.text import TfidfVectorizer\n",
        "\n",
        "# Machine Learning Models\n",
        "from sklearn import svm\n",
        "from sklearn.naive_bayes import GaussianNB\n",
        "from sklearn.linear_model import LogisticRegression\n",
        "from sklearn.tree import DecisionTreeClassifier\n",
        "from sklearn.ensemble import RandomForestClassifier"
      ]
    },
    {
      "cell_type": "code",
      "execution_count": null,
      "id": "1e896cf0",
      "metadata": {
        "id": "1e896cf0"
      },
      "outputs": [],
      "source": [
        "import urduhack\n",
        "urduhack.download()\n",
        "from urduhack.normalization import normalize\n",
        "from urduhack.preprocessing import normalize_whitespace, remove_punctuation, remove_accents, replace_urls, replace_emails, replace_numbers, replace_currency_symbols, remove_english_alphabets"
      ]
    },
    {
      "cell_type": "code",
      "execution_count": null,
      "id": "ab18deed",
      "metadata": {
        "id": "ab18deed"
      },
      "outputs": [],
      "source": [
        "test_data = pd.read_csv(\"imdb_urdu_reviews_test.csv\")\n",
        "train_data = pd.read_csv(\"imdb_urdu_reviews_train.csv\")"
      ]
    },
    {
      "cell_type": "code",
      "execution_count": null,
      "id": "0b86de19",
      "metadata": {
        "id": "0b86de19",
        "outputId": "1645bf55-fbd9-4086-f339-09a62b3cf873"
      },
      "outputs": [
        {
          "data": {
            "text/html": [
              "<div>\n",
              "<style scoped>\n",
              "    .dataframe tbody tr th:only-of-type {\n",
              "        vertical-align: middle;\n",
              "    }\n",
              "\n",
              "    .dataframe tbody tr th {\n",
              "        vertical-align: top;\n",
              "    }\n",
              "\n",
              "    .dataframe thead th {\n",
              "        text-align: right;\n",
              "    }\n",
              "</style>\n",
              "<table border=\"1\" class=\"dataframe\">\n",
              "  <thead>\n",
              "    <tr style=\"text-align: right;\">\n",
              "      <th></th>\n",
              "      <th>review</th>\n",
              "      <th>sentiment</th>\n",
              "    </tr>\n",
              "  </thead>\n",
              "  <tbody>\n",
              "    <tr>\n",
              "      <th>39995</th>\n",
              "      <td>اگرچہ میں نے سب سے زیادہ تکنیکی طور پر اعلی در...</td>\n",
              "      <td>positive</td>\n",
              "    </tr>\n",
              "    <tr>\n",
              "      <th>39996</th>\n",
              "      <td>اس فلم نے مجھے حیرت سے دوچار کردیا۔ میں اسے عا...</td>\n",
              "      <td>positive</td>\n",
              "    </tr>\n",
              "    <tr>\n",
              "      <th>39997</th>\n",
              "      <td>مجھے افسوس ہے ، لیکن یہاں تک کہ ٹی جے ہوکر کے ...</td>\n",
              "      <td>negative</td>\n",
              "    </tr>\n",
              "    <tr>\n",
              "      <th>39998</th>\n",
              "      <td>اس فلم کو اکیڈمی کے ایوارڈ کے لئے نہیں سمجھا ج...</td>\n",
              "      <td>positive</td>\n",
              "    </tr>\n",
              "    <tr>\n",
              "      <th>39999</th>\n",
              "      <td>ٹاک ریڈیو کسی شخص کو حادثاتی طور پر زندگی کے د...</td>\n",
              "      <td>positive</td>\n",
              "    </tr>\n",
              "  </tbody>\n",
              "</table>\n",
              "</div>"
            ],
            "text/plain": [
              "                                                  review sentiment\n",
              "39995  اگرچہ میں نے سب سے زیادہ تکنیکی طور پر اعلی در...  positive\n",
              "39996  اس فلم نے مجھے حیرت سے دوچار کردیا۔ میں اسے عا...  positive\n",
              "39997  مجھے افسوس ہے ، لیکن یہاں تک کہ ٹی جے ہوکر کے ...  negative\n",
              "39998  اس فلم کو اکیڈمی کے ایوارڈ کے لئے نہیں سمجھا ج...  positive\n",
              "39999  ٹاک ریڈیو کسی شخص کو حادثاتی طور پر زندگی کے د...  positive"
            ]
          },
          "execution_count": 4,
          "metadata": {},
          "output_type": "execute_result"
        }
      ],
      "source": [
        "train_data.tail()"
      ]
    },
    {
      "cell_type": "code",
      "execution_count": null,
      "id": "cac03784",
      "metadata": {
        "id": "cac03784",
        "outputId": "45e1da94-b7f8-4fe2-de5e-68c28c0f398e"
      },
      "outputs": [
        {
          "name": "stdout",
          "output_type": "stream",
          "text": [
            "(50000, 2)\n"
          ]
        }
      ],
      "source": [
        "# Combine Both Files to Preprocess\n",
        "data =  pd.concat([train_data, test_data]).reset_index(drop=True)\n",
        "print(data.shape)"
      ]
    },
    {
      "cell_type": "code",
      "execution_count": null,
      "id": "47cdee09",
      "metadata": {
        "id": "47cdee09"
      },
      "outputs": [],
      "source": [
        "# Make copy of a dataset\n",
        "df =  data.copy()"
      ]
    },
    {
      "cell_type": "code",
      "execution_count": null,
      "id": "21f271eb",
      "metadata": {
        "id": "21f271eb",
        "outputId": "089e32f5-5ca9-4454-e1d6-3841df6da8b8"
      },
      "outputs": [
        {
          "data": {
            "text/html": [
              "<div>\n",
              "<style scoped>\n",
              "    .dataframe tbody tr th:only-of-type {\n",
              "        vertical-align: middle;\n",
              "    }\n",
              "\n",
              "    .dataframe tbody tr th {\n",
              "        vertical-align: top;\n",
              "    }\n",
              "\n",
              "    .dataframe thead th {\n",
              "        text-align: right;\n",
              "    }\n",
              "</style>\n",
              "<table border=\"1\" class=\"dataframe\">\n",
              "  <thead>\n",
              "    <tr style=\"text-align: right;\">\n",
              "      <th></th>\n",
              "      <th>review</th>\n",
              "      <th>sentiment</th>\n",
              "    </tr>\n",
              "  </thead>\n",
              "  <tbody>\n",
              "    <tr>\n",
              "      <th>0</th>\n",
              "      <td>میں نے اسے 80 کی دہائی کے وسط میں ایک کیبل گائ...</td>\n",
              "      <td>positive</td>\n",
              "    </tr>\n",
              "    <tr>\n",
              "      <th>1</th>\n",
              "      <td>چونکہ میں نے 80 کی دہائی میں انسپکٹر گیجٹ کارٹ...</td>\n",
              "      <td>negative</td>\n",
              "    </tr>\n",
              "    <tr>\n",
              "      <th>2</th>\n",
              "      <td>ایک ایسے معاشرے کی حالت کے بارے میں تعجب کرتا ...</td>\n",
              "      <td>positive</td>\n",
              "    </tr>\n",
              "    <tr>\n",
              "      <th>3</th>\n",
              "      <td>مفید البرٹ پیون کی طرف سے ایک اور ردی کی ٹوکری...</td>\n",
              "      <td>negative</td>\n",
              "    </tr>\n",
              "    <tr>\n",
              "      <th>4</th>\n",
              "      <td>یہ کولمبو ہے جس کی ہدایتکاری اپنے کیریئر کے اب...</td>\n",
              "      <td>positive</td>\n",
              "    </tr>\n",
              "    <tr>\n",
              "      <th>...</th>\n",
              "      <td>...</td>\n",
              "      <td>...</td>\n",
              "    </tr>\n",
              "    <tr>\n",
              "      <th>49995</th>\n",
              "      <td>اگر آپ چیخنا چاہتے ہو یا بڑے اسٹوڈیو ہارر پراڈ...</td>\n",
              "      <td>positive</td>\n",
              "    </tr>\n",
              "    <tr>\n",
              "      <th>49996</th>\n",
              "      <td>براہ راست یہ ایک محض ایک چھوٹی سی چھوٹی چھوٹی ...</td>\n",
              "      <td>positive</td>\n",
              "    </tr>\n",
              "    <tr>\n",
              "      <th>49997</th>\n",
              "      <td>میں نے اس فلم کو کل رات آدھی رات کو چپکے سے پہ...</td>\n",
              "      <td>negative</td>\n",
              "    </tr>\n",
              "    <tr>\n",
              "      <th>49998</th>\n",
              "      <td>دیکھنا کوئی آسان فلم نہیں ہے - یہ ساڑھے تین گھ...</td>\n",
              "      <td>positive</td>\n",
              "    </tr>\n",
              "    <tr>\n",
              "      <th>49999</th>\n",
              "      <td>ناگرا قدامت پسند ہندوستانی خاندان سے تعلق رکھت...</td>\n",
              "      <td>positive</td>\n",
              "    </tr>\n",
              "  </tbody>\n",
              "</table>\n",
              "<p>50000 rows × 2 columns</p>\n",
              "</div>"
            ],
            "text/plain": [
              "                                                  review sentiment\n",
              "0      میں نے اسے 80 کی دہائی کے وسط میں ایک کیبل گائ...  positive\n",
              "1      چونکہ میں نے 80 کی دہائی میں انسپکٹر گیجٹ کارٹ...  negative\n",
              "2      ایک ایسے معاشرے کی حالت کے بارے میں تعجب کرتا ...  positive\n",
              "3      مفید البرٹ پیون کی طرف سے ایک اور ردی کی ٹوکری...  negative\n",
              "4      یہ کولمبو ہے جس کی ہدایتکاری اپنے کیریئر کے اب...  positive\n",
              "...                                                  ...       ...\n",
              "49995  اگر آپ چیخنا چاہتے ہو یا بڑے اسٹوڈیو ہارر پراڈ...  positive\n",
              "49996  براہ راست یہ ایک محض ایک چھوٹی سی چھوٹی چھوٹی ...  positive\n",
              "49997  میں نے اس فلم کو کل رات آدھی رات کو چپکے سے پہ...  negative\n",
              "49998  دیکھنا کوئی آسان فلم نہیں ہے - یہ ساڑھے تین گھ...  positive\n",
              "49999  ناگرا قدامت پسند ہندوستانی خاندان سے تعلق رکھت...  positive\n",
              "\n",
              "[50000 rows x 2 columns]"
            ]
          },
          "execution_count": 7,
          "metadata": {},
          "output_type": "execute_result"
        }
      ],
      "source": [
        "df"
      ]
    },
    {
      "cell_type": "code",
      "execution_count": null,
      "id": "c616f0c6",
      "metadata": {
        "id": "c616f0c6",
        "outputId": "c40e2c2c-0ae9-4d74-99e4-a5fe8f79c40a"
      },
      "outputs": [
        {
          "data": {
            "image/png": "[encoded data removed]",
            "text/plain": [
              "<Figure size 432x288 with 1 Axes>"
            ]
          },
          "metadata": {
            "needs_background": "light"
          },
          "output_type": "display_data"
        }
      ],
      "source": [
        "sns.countplot( x = 'sentiment', data = df );\n"
      ]
    },
    {
      "cell_type": "code",
      "execution_count": null,
      "id": "c0a036b3",
      "metadata": {
        "id": "c0a036b3"
      },
      "outputs": [],
      "source": [
        "# Encode the labels\n",
        "le = LabelEncoder()\n",
        "le.fit(df['sentiment'])\n",
        "df['encoded_sentiments'] = le.transform(df['sentiment'])"
      ]
    },
    {
      "cell_type": "code",
      "execution_count": null,
      "id": "60ccb8fc",
      "metadata": {
        "id": "60ccb8fc"
      },
      "outputs": [],
      "source": [
        "df['review'] = df['review'].apply(normalize)\n",
        "df['review'] = df['review'].apply(remove_accents)\n",
        "df['review'] = df['review'].apply(replace_urls)\n",
        "df['review'] = df['review'].apply(replace_emails)\n",
        "df['review'] = df['review'].apply(replace_currency_symbols)\n",
        "df['review'] = df['review'].apply(normalize_whitespace)"
      ]
    },
    {
      "cell_type": "code",
      "execution_count": null,
      "id": "1f1dce65",
      "metadata": {
        "id": "1f1dce65"
      },
      "outputs": [],
      "source": [
        "# Remove stop words from text\n",
        "from typing import FrozenSet\n",
        "\n",
        "# Urdu Language Stop words list\n",
        "STOP_WORDS: FrozenSet[str] = frozenset(\"\"\"\n",
        " آ آئی آئیں آئے آتا آتی آتے آس آمدید آنا آنسہ آنی آنے آپ آگے آہ آہا آیا اب ابھی ابے\n",
        " ارے اس اسکا اسکی اسکے اسی اسے اف افوہ البتہ الف ان اندر انکا انکی انکے انہوں انہی انہیں اوئے اور اوپر\n",
        " اوہو اپ اپنا اپنوں اپنی اپنے اپنےآپ اکثر اگر اگرچہ اہاہا ایسا ایسی ایسے ایک بائیں بار بارے بالکل باوجود باہر\n",
        " بج بجے بخیر بشرطیکہ بعد بعض بغیر بلکہ بن بنا بناؤ بند بڑی بھر بھریں بھی بہت بہتر تاکہ تاہم تب تجھ\n",
        " تجھی تجھے ترا تری تلک تم تمام تمہارا تمہاروں تمہاری تمہارے تمہیں تو تک تھا تھی تھیں تھے تیرا تیری تیرے\n",
        " جا جاؤ جائیں جائے جاتا جاتی جاتے جانی جانے جب جبکہ جدھر جس جسے جن جناب جنہوں جنہیں جو جہاں جی جیسا\n",
        " جیسوں جیسی جیسے حالانکہ حالاں حصہ حضرت خاطر خالی خواہ خوب خود دائیں درمیان دریں دو دوران دوسرا دوسروں دوسری دوں\n",
        " دکھائیں دی دیئے دیا دیتا دیتی دیتے دیر دینا دینی دینے دیکھو دیں دیے دے ذریعے رکھا رکھتا رکھتی رکھتے رکھنا رکھنی\n",
        " رکھنے رکھو رکھی رکھے رہ رہا رہتا رہتی رہتے رہنا رہنی رہنے رہو رہی رہیں رہے ساتھ سامنے ساڑھے سب سبھی\n",
        " سراسر سمیت سوا سوائے سکا سکتا سکتے سہ سہی سی سے شاید شکریہ صاحب صاحبہ صرف ضرور طرح طرف طور علاوہ عین\n",
        " فقط فلاں فی قبل قطا لئے لائی لائے لاتا لاتی لاتے لانا لانی لانے لایا لو لوجی لوگوں لگ لگا لگتا\n",
        " لگتی لگی لگیں لگے لہذا لی لیا لیتا لیتی لیتے لیکن لیں لیے لے ماسوا مت مجھ مجھی مجھے محترم محترمہ محض\n",
        " مرا مرحبا مری مرے مزید مس مسز مسٹر مطابق مل مکرمی مگر مگھر مہربانی میرا میروں میری میرے میں نا نزدیک\n",
        " نما نہ نہیں نیز نیچے نے و وار واسطے واقعی والا والوں والی والے واہ وجہ ورنہ وغیرہ ولے وگرنہ وہ وہاں\n",
        " وہی وہیں ویسا ویسے ویں پاس پایا پر پس پلیز پون پونی پونے پھر پہ پہلا پہلی پہلے پیر پیچھے چاہئے\n",
        " چاہتے چاہیئے چاہے چلا چلو چلیں چلے چناچہ چند چونکہ چکی چکیں چکے ڈالنا ڈالنی ڈالنے ڈالے کئے کا کاش کب کبھی\n",
        " کدھر کر کرتا کرتی کرتے کرم کرنا کرنے کرو کریں کرے کس کسی کسے کم کن کنہیں کو کوئی کون کونسا\n",
        " کونسے کچھ کہ کہا کہاں کہہ کہی کہیں کہے کی کیا کیسا کیسے کیونکر کیونکہ کیوں کیے کے گئی گئے گا گنا\n",
        " گو گویا گی گیا ہائیں ہائے ہاں ہر ہرچند ہرگز ہم ہمارا ہماری ہمارے ہمی ہمیں ہو ہوئی ہوئیں ہوئے ہوا\n",
        " ہوبہو ہوتا ہوتی ہوتیں ہوتے ہونا ہونگے ہونی ہونے ہوں ہی ہیلو ہیں ہے یا یات یعنی یک یہ یہاں یہی یہیں\n",
        "\"\"\".split())\n",
        "\n",
        "\n",
        "def remove_stopwords(text: str):\n",
        "    return \" \".join(word for word in text.split() if word not in STOP_WORDS)"
      ]
    },
    {
      "cell_type": "code",
      "execution_count": null,
      "id": "1d7c7b4e",
      "metadata": {
        "id": "1d7c7b4e",
        "outputId": "2fc95c9b-c83e-4cfb-d6fc-34e17e0481d7"
      },
      "outputs": [
        {
          "data": {
            "text/plain": [
              "430"
            ]
          },
          "execution_count": 45,
          "metadata": {},
          "output_type": "execute_result"
        }
      ],
      "source": [
        "len(STOP_WORDS)"
      ]
    },
    {
      "cell_type": "code",
      "execution_count": null,
      "id": "a625e48d",
      "metadata": {
        "id": "a625e48d"
      },
      "outputs": [],
      "source": [
        "from urduhack.models.lemmatizer import lemmatizer\n",
        "def lemitizeStr(str):\n",
        "    lemme_str = \"\"\n",
        "    temp = lemmatizer.lemma_lookup(str)\n",
        "    for t in temp:\n",
        "        lemme_str += t[0] + \" \"\n",
        "\n",
        "    return lemme_str"
      ]
    },
    {
      "cell_type": "code",
      "execution_count": null,
      "id": "d0fe4a15",
      "metadata": {
        "id": "d0fe4a15",
        "outputId": "f1f32649-20f2-458c-ff2b-9c51b16b0e8a"
      },
      "outputs": [
        {
          "data": {
            "text/plain": [
              "('معاشرے حالت تعجب والد پیدا البرٹ ٹی فٹزجیرالڈ ، طیارے ملتے ، جگہ جارہا عرصہ ترک کردیا ، بیوی بچ leftہ چھوڑا تھا۔ ذہنی معذور لڑکے قتل الزام ہے۔ دیکھتے ، اخبار عنوان پکڑا عورت پڑھ ہے۔ بے رحمی ، پوچھتی اخبار رکھ ، خاتون دوسرے حصے پیش ہے۔ ٹھیک ، پوچھا ، عورت چاہتی ، حص giveہ پڑھ ہے۔ میتھیو ریان ہوج پریشان فلم لکھا ہدایت معاشرے کئی عکاسی ہے۔ در حقیقت ، ہوج اشارہ غلط ہے۔ فلم لیلینڈ نوعمر عمر پیش ، خیالی حقیقت فرق کرسکتا ہے۔ بات عیاں انسان قتل ، پیارے معصوم لڑکے مستحق ، ، خاندان مقتول لڑکے کنبہ مہلک نتائج برآمد گے۔ حقیقت ، لیلینڈ پتہ جرم ارتکاب چیز ترغیب توبہ ہے۔ ظاہر والدین طلاق لیلینڈ صدمہ پہنچا ہے۔ باپ متلو .ن آدمی پرواہ تھا۔ پرل ، نوعمر حراستی مرکز استاد نوجوان ہنگامہ دیکھتا مدد چاہتا ، بدقسمتی ، موقع ہے۔ فلم اچھی بات ڈان چیڈل ، عمدہ اداکار ہمیشہ بچاتا ہے۔ . ہوج ہدایت کاری تحت جوڑا کاسٹ اچھ workا کام ہے۔ کیون اسپیس ملزم قاتل مغرور والد کردار ادا اچھا موقع تکبر بیوقوف نفرت ہیں۔ تھوڑی ، فلم جوابات زیادہ سوالات ہے۔',\n",
              " 'معاشرے حالت تعجب والد پیدا البرٹ ٹی فٹزجیرالڈ ، طیارے ملتے ، جگہ جارہا عرصہ ترک کردیا ، بیوی بچ leftہ چھوڑا تھا۔ ذہنی معذور لڑکے قتل الزام ہے۔ دیکھتے ، اخبار عنوان پکڑا عورت پڑھ ہے۔ بے رحمی ، پوچھتی اخبار رکھ ، خاتون دوسرے حصے پیش ہے۔ ٹھیک ، پوچھا ، عورت چاہتی ، حص giveہ پڑھ ہے۔ میتھیو ریان ہوج پریشان فلم لکھا ہدایت معاشرے کئی عکاسی ہے۔ در حقیقت ، ہوج اشارہ غلط ہے۔ فلم لیلینڈ نوعمر عمر پیش ، خیالی حقیقت فرق کرسکتا ہے۔ بات عیاں انسان قتل ، پیارے معصوم لڑکے مستحق ، ، خاندان مقتول لڑکے کنبہ مہلک نتائج برآمد گے۔ حقیقت ، لیلینڈ پتہ جرم ارتکاب چیز ترغیب توبہ ہے۔ ظاہر والدین طلاق لیلینڈ صدمہ پہنچا ہے۔ باپ متلو .ن آدمی پرواہ تھا۔ پرل ، نوعمر حراستی مرکز استاد نوجوان ہنگامہ دیکھتا مدد چاہتا ، بدقسمتی ، موقع ہے۔ فلم اچھی بات ڈان چیڈل ، عمدہ اداکار ہمیشہ بچاتا ہے۔ . ہوج ہدایت کاری تحت جوڑا کاسٹ اچھ workا کام ہے۔ کیون اسپیس ملزم قاتل مغرور والد کردار ادا اچھا موقع تکبر بیوقوف نفرت ہیں۔ تھوڑی ، فلم جوابات زیادہ سوالات ہے۔ ')"
            ]
          },
          "execution_count": 47,
          "metadata": {},
          "output_type": "execute_result"
        }
      ],
      "source": [
        "df['review'] =  df['review'].apply(remove_stopwords)\n",
        "df['lemmatized_text'] = df['review'].apply(lemitizeStr)\n",
        "df['review'][2], df['lemmatized_text'][2]"
      ]
    },
    {
      "cell_type": "code",
      "execution_count": null,
      "id": "68d64c01",
      "metadata": {
        "id": "68d64c01",
        "outputId": "224a1ef7-5377-401d-fe9f-ff8bd881353f"
      },
      "outputs": [
        {
          "data": {
            "text/html": [
              "<div>\n",
              "<style scoped>\n",
              "    .dataframe tbody tr th:only-of-type {\n",
              "        vertical-align: middle;\n",
              "    }\n",
              "\n",
              "    .dataframe tbody tr th {\n",
              "        vertical-align: top;\n",
              "    }\n",
              "\n",
              "    .dataframe thead th {\n",
              "        text-align: right;\n",
              "    }\n",
              "</style>\n",
              "<table border=\"1\" class=\"dataframe\">\n",
              "  <thead>\n",
              "    <tr style=\"text-align: right;\">\n",
              "      <th></th>\n",
              "      <th>review</th>\n",
              "      <th>sentiment</th>\n",
              "      <th>encoded_sentiments</th>\n",
              "      <th>lemmatized_text</th>\n",
              "    </tr>\n",
              "  </thead>\n",
              "  <tbody>\n",
              "    <tr>\n",
              "      <th>0</th>\n",
              "      <td>80 دہائی وسط کیبل گائیڈ (اسکائینجر ہنٹ پہلو اپ...</td>\n",
              "      <td>positive</td>\n",
              "      <td>1</td>\n",
              "      <td>80 دہائی وسط کیبل گائیڈ (اسکائینجر ہنٹ پہلو اپ...</td>\n",
              "    </tr>\n",
              "    <tr>\n",
              "      <th>1</th>\n",
              "      <td>80 دہائی انسپکٹر گیجٹ کارٹون پسند ، فلم دیکھنے...</td>\n",
              "      <td>negative</td>\n",
              "      <td>0</td>\n",
              "      <td>80 دہائی انسپکٹر گیجٹ کارٹون پسند ، فلم دیکھنے...</td>\n",
              "    </tr>\n",
              "    <tr>\n",
              "      <th>2</th>\n",
              "      <td>معاشرے حالت تعجب والد پیدا البرٹ ٹی فٹزجیرالڈ ...</td>\n",
              "      <td>positive</td>\n",
              "      <td>1</td>\n",
              "      <td>معاشرے حالت تعجب والد پیدا البرٹ ٹی فٹزجیرالڈ ...</td>\n",
              "    </tr>\n",
              "    <tr>\n",
              "      <th>3</th>\n",
              "      <td>مفید البرٹ پیون ردی ٹوکری گریڈ زیڈ جلدی۔ ٹم تھ...</td>\n",
              "      <td>negative</td>\n",
              "      <td>0</td>\n",
              "      <td>مفید البرٹ پیون ردی ٹوکری گریڈ زیڈ جلدی۔ ٹم تھ...</td>\n",
              "    </tr>\n",
              "    <tr>\n",
              "      <th>4</th>\n",
              "      <td>کولمبو ہدایتکاری کیریئر ابتدائی وقت اسٹیون اسپ...</td>\n",
              "      <td>positive</td>\n",
              "      <td>1</td>\n",
              "      <td>کولمبو ہدایتکاری کیریئر ابتدائی وقت اسٹیون اسپ...</td>\n",
              "    </tr>\n",
              "  </tbody>\n",
              "</table>\n",
              "</div>"
            ],
            "text/plain": [
              "                                              review sentiment  \\\n",
              "0  80 دہائی وسط کیبل گائیڈ (اسکائینجر ہنٹ پہلو اپ...  positive   \n",
              "1  80 دہائی انسپکٹر گیجٹ کارٹون پسند ، فلم دیکھنے...  negative   \n",
              "2  معاشرے حالت تعجب والد پیدا البرٹ ٹی فٹزجیرالڈ ...  positive   \n",
              "3  مفید البرٹ پیون ردی ٹوکری گریڈ زیڈ جلدی۔ ٹم تھ...  negative   \n",
              "4  کولمبو ہدایتکاری کیریئر ابتدائی وقت اسٹیون اسپ...  positive   \n",
              "\n",
              "   encoded_sentiments                                    lemmatized_text  \n",
              "0                   1  80 دہائی وسط کیبل گائیڈ (اسکائینجر ہنٹ پہلو اپ...  \n",
              "1                   0  80 دہائی انسپکٹر گیجٹ کارٹون پسند ، فلم دیکھنے...  \n",
              "2                   1  معاشرے حالت تعجب والد پیدا البرٹ ٹی فٹزجیرالڈ ...  \n",
              "3                   0  مفید البرٹ پیون ردی ٹوکری گریڈ زیڈ جلدی۔ ٹم تھ...  \n",
              "4                   1  کولمبو ہدایتکاری کیریئر ابتدائی وقت اسٹیون اسپ...  "
            ]
          },
          "execution_count": 48,
          "metadata": {},
          "output_type": "execute_result"
        }
      ],
      "source": [
        "df.head()"
      ]
    },
    {
      "cell_type": "code",
      "execution_count": null,
      "id": "b8f470ab",
      "metadata": {
        "id": "b8f470ab"
      },
      "outputs": [],
      "source": [
        "X_train, X_test, Y_train, Y_test = train_test_split(df['lemmatized_text'], df['encoded_sentiments'], test_size = 0.30, random_state = 7, shuffle = True)"
      ]
    },
    {
      "cell_type": "markdown",
      "id": "23d9c9d1",
      "metadata": {
        "id": "23d9c9d1"
      },
      "source": []
    },
    {
      "cell_type": "markdown",
      "id": "49e8215c",
      "metadata": {
        "id": "49e8215c"
      },
      "source": []
    },
    {
      "cell_type": "code",
      "execution_count": null,
      "id": "0d9e2f25",
      "metadata": {
        "id": "0d9e2f25",
        "outputId": "27d8ed3d-3df4-413c-af28-c36b14ccd5f7"
      },
      "outputs": [
        {
          "name": "stdout",
          "output_type": "stream",
          "text": [
            "Shape of X_train (35000,)\n",
            "Shape of X_test (15000,)\n",
            "Shape of Y_train (35000,)\n",
            "Shape of Y_test (15000,)\n"
          ]
        }
      ],
      "source": [
        "print('Shape of X_train', X_train.shape)\n",
        "print('Shape of X_test', X_test.shape)\n",
        "print('Shape of Y_train', Y_train.shape)\n",
        "print('Shape of Y_test', Y_test.shape)"
      ]
    },
    {
      "cell_type": "code",
      "execution_count": null,
      "id": "5b1f9458",
      "metadata": {
        "id": "5b1f9458"
      },
      "outputs": [],
      "source": [
        "max_feature_num = 50000\n",
        "vectorizer = TfidfVectorizer(max_features=max_feature_num)\n",
        "train_vecs = vectorizer.fit_transform(X_train)\n",
        "test_vecs = TfidfVectorizer(max_features=max_feature_num, vocabulary=vectorizer.vocabulary_).fit_transform(X_test)"
      ]
    },
    {
      "cell_type": "code",
      "execution_count": null,
      "id": "7a6dc047",
      "metadata": {
        "id": "7a6dc047"
      },
      "outputs": [],
      "source": [
        "\n",
        "def LR_classifier(train_vecs, Y_train, test_vecs, Y_test):\n",
        "    # Training\n",
        "    LR = LogisticRegression()\n",
        "    LR.fit(train_vecs, Y_train)\n",
        "    # testing\n",
        "    test_predictionLR = LR.predict(test_vecs)\n",
        "    from sklearn.model_selection import cross_val_score\n",
        "    scores = cross_val_score(LR, train_vecs, Y_train, cv=4)\n",
        "    print('Cross-Validation Accuracy Scores', scores)\n",
        "    scores = pd.Series(scores)\n",
        "    scores.min(), scores.mean(), scores.max()\n",
        "    print('Cross-Validation Accuracy min,med,mod', scores.min(), scores.mean(), scores.max())\n",
        "    print('Results of Logistic Regression Classifier on TF-IDF Vectorizer')\n",
        "\n",
        "    return classification_report(test_predictionLR, Y_test) , confusion_matrix(test_predictionLR, Y_test)\n",
        ""
      ]
    },
    {
      "cell_type": "code",
      "execution_count": null,
      "id": "5bad5894",
      "metadata": {
        "id": "5bad5894",
        "outputId": "669bdaf6-7a09-4878-905f-8cf4a2011267"
      },
      "outputs": [
        {
          "name": "stdout",
          "output_type": "stream",
          "text": [
            "Cross-Validation Accuracy Scores [0.86548571 0.86468571 0.86902857 0.86297143]\n",
            "Cross-Validation Accuracy min,med,mod 0.8629714285714286 0.8655428571428571 0.8690285714285715\n",
            "Results of Logistic Regression Classifier on TF-IDF Vectorizer\n",
            "              precision    recall  f1-score   support\n",
            "\n",
            "           0       0.86      0.88      0.87      7348\n",
            "           1       0.88      0.87      0.87      7652\n",
            "\n",
            "    accuracy                           0.87     15000\n",
            "   macro avg       0.87      0.87      0.87     15000\n",
            "weighted avg       0.87      0.87      0.87     15000\n",
            "\n",
            "[[6442  906]\n",
            " [1028 6624]]\n"
          ]
        },
        {
          "data": {
            "text/plain": [
              "<AxesSubplot:>"
            ]
          },
          "execution_count": 80,
          "metadata": {},
          "output_type": "execute_result"
        },
        {
          "data": {
            "image/png": "[encoded data removed]",
            "text/plain": [
              "<Figure size 432x288 with 2 Axes>"
            ]
          },
          "metadata": {
            "needs_background": "light"
          },
          "output_type": "display_data"
        }
      ],
      "source": [
        "from sklearn.metrics import classification_report, confusion_matrix\n",
        "classification_report , confusion_matrix = LR_classifier(train_vecs, Y_train, test_vecs, Y_test)\n",
        "print(classification_report)\n",
        "print(confusion_matrix)\n",
        "\n",
        "import seaborn as sns\n",
        "sns.heatmap(confusion_matrix, annot=True)"
      ]
    },
    {
      "cell_type": "code",
      "execution_count": null,
      "id": "5b702cbc",
      "metadata": {
        "id": "5b702cbc",
        "outputId": "5b5b11e2-c138-4b4b-f927-2c0d0608eb89"
      },
      "outputs": [
        {
          "data": {
            "text/plain": [
              "<AxesSubplot:>"
            ]
          },
          "execution_count": 79,
          "metadata": {},
          "output_type": "execute_result"
        },
        {
          "data": {
            "image/png": "[encoded data removed]",
            "text/plain": [
              "<Figure size 432x288 with 2 Axes>"
            ]
          },
          "metadata": {
            "needs_background": "light"
          },
          "output_type": "display_data"
        }
      ],
      "source": [
        "sns.heatmap(confusion_matrix/np.sum(confusion_matrix), annot=True, fmt='.2%', cmap='Blues')"
      ]
    },
    {
      "cell_type": "code",
      "execution_count": null,
      "id": "0c56971d",
      "metadata": {
        "id": "0c56971d"
      },
      "outputs": [],
      "source": [
        "def SVM_classifier(train_vecs, Y_train, test_vecs, Y_test):\n",
        "    # Training\n",
        "    SVM = svm.LinearSVC(max_iter=100)\n",
        "    SVM.fit(train_vecs, Y_train)\n",
        "\n",
        "    # Testing\n",
        "    test_predictionSVM = SVM.predict(test_vecs)\n",
        "    from sklearn.model_selection import cross_val_score\n",
        "\n",
        "    scores = cross_val_score(SVM, train_vecs, Y_train, cv=4)\n",
        "    print('Cross-Validation Accuracy Scores', scores)\n",
        "    scores = pd.Series(scores)\n",
        "    scores.min(), scores.mean(), scores.max()\n",
        "    print('Cross-Validation Accuracy min,med,mod', scores.min(), scores.mean(), scores.max())\n",
        "    print('Results of SVM Classifier on TF-IDF Vectorizer')\n",
        "    return classification_report(test_predictionSVM, Y_test), confusion_matrix(test_predictionSVM, Y_test)"
      ]
    },
    {
      "cell_type": "code",
      "execution_count": null,
      "id": "c38c916c",
      "metadata": {
        "id": "c38c916c",
        "outputId": "6e6b8253-f5b0-46d3-c3ca-3f7d702fcc74"
      },
      "outputs": [
        {
          "name": "stdout",
          "output_type": "stream",
          "text": [
            "Cross-Validation Accuracy Scores [0.85874286 0.86068571 0.86125714 0.85611429]\n",
            "Cross-Validation Accuracy min,med,mod 0.8561142857142857 0.8592 0.8612571428571428\n",
            "Results of SVM Classifier on TF-IDF Vectorizer\n",
            "              precision    recall  f1-score   support\n",
            "\n",
            "           0       0.86      0.87      0.86      7405\n",
            "           1       0.87      0.86      0.87      7595\n",
            "\n",
            "    accuracy                           0.86     15000\n",
            "   macro avg       0.86      0.86      0.86     15000\n",
            "weighted avg       0.86      0.86      0.86     15000\n",
            "\n",
            "[[6423  982]\n",
            " [1047 6548]]\n"
          ]
        },
        {
          "data": {
            "text/plain": [
              "<AxesSubplot:>"
            ]
          },
          "execution_count": 83,
          "metadata": {},
          "output_type": "execute_result"
        },
        {
          "data": {
            "image/png": "[encoded data removed]",
            "text/plain": [
              "<Figure size 432x288 with 2 Axes>"
            ]
          },
          "metadata": {
            "needs_background": "light"
          },
          "output_type": "display_data"
        }
      ],
      "source": [
        "from sklearn.metrics import classification_report, confusion_matrix\n",
        "classification_report , confusion_matrix = SVM_classifier(train_vecs, Y_train, test_vecs, Y_test)\n",
        "print(classification_report)\n",
        "print(confusion_matrix)\n",
        "\n",
        "import seaborn as sns\n",
        "sns.heatmap(confusion_matrix, annot=True)"
      ]
    },
    {
      "cell_type": "code",
      "execution_count": null,
      "id": "7ebe9f35",
      "metadata": {
        "id": "7ebe9f35",
        "outputId": "e3f519f7-a25e-4199-eb2b-ed7c2d33f742"
      },
      "outputs": [
        {
          "data": {
            "text/plain": [
              "<AxesSubplot:>"
            ]
          },
          "execution_count": 84,
          "metadata": {},
          "output_type": "execute_result"
        },
        {
          "data": {
            "image/png": "[encoded data removed]",
            "text/plain": [
              "<Figure size 432x288 with 2 Axes>"
            ]
          },
          "metadata": {
            "needs_background": "light"
          },
          "output_type": "display_data"
        }
      ],
      "source": [
        "sns.heatmap(confusion_matrix/np.sum(confusion_matrix), annot=True, fmt='.2%', cmap='Blues')"
      ]
    },
    {
      "cell_type": "code",
      "execution_count": null,
      "id": "05503360",
      "metadata": {
        "id": "05503360"
      },
      "outputs": [],
      "source": [
        "def DT_classifier(train_vecs, Y_train, test_vecs, Y_test):\n",
        "    # Training\n",
        "    DT = DecisionTreeClassifier(max_depth = 9, random_state = 23 )\n",
        "    DT.fit(train_vecs, Y_train)\n",
        "\n",
        "    # Testing\n",
        "    test_predictionDT = DT.predict(test_vecs)\n",
        "    from sklearn.model_selection import cross_val_score\n",
        "\n",
        "    scores = cross_val_score(DT, train_vecs, Y_train, cv=4)\n",
        "    print('Cross-Validation Accuracy Scores', scores)\n",
        "    scores = pd.Series(scores)\n",
        "    scores.min(), scores.mean(), scores.max()\n",
        "    print('Cross-Validation Accuracy min,med,mod', scores.min(), scores.mean(), scores.max())\n",
        "    return classification_report(test_predictionDT, Y_test), confusion_matrix(test_predictionDT, Y_test)"
      ]
    },
    {
      "cell_type": "code",
      "execution_count": null,
      "id": "661b3c5b",
      "metadata": {
        "id": "661b3c5b",
        "outputId": "c9a5409b-75f0-4b26-8e6f-e84e02d63555"
      },
      "outputs": [
        {
          "name": "stdout",
          "output_type": "stream",
          "text": [
            "Cross-Validation Accuracy Scores [0.70754286 0.70754286 0.70365714 0.7       ]\n",
            "Cross-Validation Accuracy min,med,mod 0.7 0.7046857142857144 0.7075428571428571\n",
            "Results of Decision Tree Classifier on TF-IDF Vectorizer\n",
            "\n",
            "              precision    recall  f1-score   support\n",
            "\n",
            "           0       0.56      0.81      0.66      5179\n",
            "           1       0.87      0.67      0.75      9821\n",
            "\n",
            "    accuracy                           0.72     15000\n",
            "   macro avg       0.72      0.74      0.71     15000\n",
            "weighted avg       0.76      0.72      0.72     15000\n",
            "\n",
            "[[4194  985]\n",
            " [3276 6545]]\n"
          ]
        },
        {
          "data": {
            "text/plain": [
              "<AxesSubplot:>"
            ]
          },
          "execution_count": 93,
          "metadata": {},
          "output_type": "execute_result"
        },
        {
          "data": {
            "image/png": "[encoded data removed]",
            "text/plain": [
              "<Figure size 432x288 with 2 Axes>"
            ]
          },
          "metadata": {
            "needs_background": "light"
          },
          "output_type": "display_data"
        }
      ],
      "source": [
        "from sklearn.metrics import classification_report, confusion_matrix\n",
        "classification_report , confusion_matrix = DT_classifier(train_vecs, Y_train, test_vecs, Y_test)\n",
        "print('Results of Decision Tree Classifier on TF-IDF Vectorizer\\n')\n",
        "print(classification_report)\n",
        "print(confusion_matrix)\n",
        "\n",
        "\n",
        "import seaborn as sns\n",
        "sns.heatmap(confusion_matrix, annot=True)"
      ]
    },
    {
      "cell_type": "code",
      "execution_count": null,
      "id": "3ecd6adf",
      "metadata": {
        "id": "3ecd6adf",
        "outputId": "1a7b7676-5e4a-4acf-9137-4ca653e695ea"
      },
      "outputs": [
        {
          "data": {
            "text/plain": [
              "<AxesSubplot:>"
            ]
          },
          "execution_count": 94,
          "metadata": {},
          "output_type": "execute_result"
        },
        {
          "data": {
            "image/png": "[encoded data removed]",
            "text/plain": [
              "<Figure size 432x288 with 2 Axes>"
            ]
          },
          "metadata": {
            "needs_background": "light"
          },
          "output_type": "display_data"
        }
      ],
      "source": [
        "sns.heatmap(confusion_matrix/np.sum(confusion_matrix), annot=True, fmt='.2%', cmap='Blues')"
      ]
    },
    {
      "cell_type": "code",
      "execution_count": null,
      "id": "8178ebc8",
      "metadata": {
        "id": "8178ebc8"
      },
      "outputs": [],
      "source": [
        "import tensorflow.keras.layers as Layers\n",
        "import tensorflow.keras.activations as Actications\n",
        "import tensorflow.keras.models as Models\n",
        "from tensorflow.keras.optimizers import Adam, Optimizer, SGD\n",
        "import tensorflow.keras.initializers as Init\n",
        "from tensorflow.keras import regularizers"
      ]
    },
    {
      "cell_type": "code",
      "execution_count": null,
      "id": "cd8f9a68",
      "metadata": {
        "id": "cd8f9a68"
      },
      "outputs": [],
      "source": [
        "def XGB_classifier(train_vecs, Y_train, test_vecs, Y_test):\n",
        "    # Training\n",
        "    XGB = xgb.XGBClassifier(colsample_bytree = 0.2, learning_rate = 0.01, n_estimators = 100)\n",
        "    XGB.fit(train_vecs, Y_train)\n",
        "\n",
        "    # Testing\n",
        "    test_predictionXGB = XGB.predict(test_vecs)\n",
        "    from sklearn.model_selection import cross_val_score\n",
        "\n",
        "    scores = cross_val_score(XGB, train_vecs, Y_train, cv=4)\n",
        "    print('Cross-Validation Accuracy Scores', scores)\n",
        "    scores = pd.Series(scores)\n",
        "    scores.min(), scores.mean(), scores.max()\n",
        "    print('Cross-Validation Accuracy min,med,mod', scores.min(), scores.mean(), scores.max())\n",
        "    return classification_report(test_predictionXGB, Y_test), confusion_matrix(test_predictionXGB, Y_test)"
      ]
    },
    {
      "cell_type": "code",
      "execution_count": null,
      "id": "148e6f8a",
      "metadata": {
        "id": "148e6f8a",
        "outputId": "52e38826-5855-49eb-f3e5-fadc630d7b9b"
      },
      "outputs": [
        {
          "ename": "NameError",
          "evalue": "name 'xgb' is not defined",
          "output_type": "error",
          "traceback": [
            "\u001b[1;31m---------------------------------------------------------------------------\u001b[0m",
            "\u001b[1;31mNameError\u001b[0m                                 Traceback (most recent call last)",
            "Input \u001b[1;32mIn [114]\u001b[0m, in \u001b[0;36m<cell line: 2>\u001b[1;34m()\u001b[0m\n\u001b[0;32m      1\u001b[0m \u001b[38;5;28;01mfrom\u001b[39;00m \u001b[38;5;21;01msklearn\u001b[39;00m\u001b[38;5;21;01m.\u001b[39;00m\u001b[38;5;21;01mmetrics\u001b[39;00m \u001b[38;5;28;01mimport\u001b[39;00m classification_report, confusion_matrix\n\u001b[1;32m----> 2\u001b[0m classification_report , confusion_matrix \u001b[38;5;241m=\u001b[39m \u001b[43mXGB_classifier\u001b[49m\u001b[43m(\u001b[49m\u001b[43mtrain_vecs\u001b[49m\u001b[43m,\u001b[49m\u001b[43m \u001b[49m\u001b[43mY_train\u001b[49m\u001b[43m,\u001b[49m\u001b[43m \u001b[49m\u001b[43mtest_vecs\u001b[49m\u001b[43m,\u001b[49m\u001b[43m \u001b[49m\u001b[43mY_test\u001b[49m\u001b[43m)\u001b[49m\n\u001b[0;32m      3\u001b[0m \u001b[38;5;28mprint\u001b[39m(\u001b[38;5;124m'\u001b[39m\u001b[38;5;124mResults of Xgboost Classifier on TF-IDF Vectorizer\u001b[39m\u001b[38;5;130;01m\\n\u001b[39;00m\u001b[38;5;124m'\u001b[39m)\n\u001b[0;32m      4\u001b[0m \u001b[38;5;28mprint\u001b[39m(classification_report)\n",
            "Input \u001b[1;32mIn [113]\u001b[0m, in \u001b[0;36mXGB_classifier\u001b[1;34m(train_vecs, Y_train, test_vecs, Y_test)\u001b[0m\n\u001b[0;32m      1\u001b[0m \u001b[38;5;28;01mdef\u001b[39;00m \u001b[38;5;21mXGB_classifier\u001b[39m(train_vecs, Y_train, test_vecs, Y_test):\n\u001b[0;32m      2\u001b[0m     \u001b[38;5;66;03m# Training\u001b[39;00m\n\u001b[1;32m----> 3\u001b[0m     XGB \u001b[38;5;241m=\u001b[39m \u001b[43mxgb\u001b[49m\u001b[38;5;241m.\u001b[39mXGBClassifier(colsample_bytree \u001b[38;5;241m=\u001b[39m \u001b[38;5;241m0.2\u001b[39m, learning_rate \u001b[38;5;241m=\u001b[39m \u001b[38;5;241m0.01\u001b[39m, n_estimators \u001b[38;5;241m=\u001b[39m \u001b[38;5;241m100\u001b[39m)\n\u001b[0;32m      4\u001b[0m     XGB\u001b[38;5;241m.\u001b[39mfit(train_vecs, Y_train)\n\u001b[0;32m      6\u001b[0m     \u001b[38;5;66;03m# Testing\u001b[39;00m\n",
            "\u001b[1;31mNameError\u001b[0m: name 'xgb' is not defined"
          ]
        }
      ],
      "source": [
        "from sklearn.metrics import classification_report, confusion_matrix\n",
        "classification_report , confusion_matrix = XGB_classifier(train_vecs, Y_train, test_vecs, Y_test)\n",
        "print('Results of Xgboost Classifier on TF-IDF Vectorizer\\n')\n",
        "print(classification_report)\n",
        "print(confusion_matrix)"
      ]
    },
    {
      "cell_type": "code",
      "execution_count": null,
      "id": "604006bd",
      "metadata": {
        "id": "604006bd"
      },
      "outputs": [],
      "source": [
        "def RF_classifier(train_vecs, Y_train, test_vecs, Y_test):\n",
        "    # Training\n",
        "    RF = RandomForestClassifier(n_estimators = 450, max_depth=9, random_state=43)\n",
        "    RF.fit(train_vecs, Y_train)\n",
        "\n",
        "    # Testing\n",
        "    test_predictionRF = RF.predict(test_vecs)\n",
        "    from sklearn.model_selection import cross_val_score\n",
        "\n",
        "    scores = cross_val_score(RF, train_vecs, Y_train, cv=4)\n",
        "    print('Cross-Validation Accuracy Scores', scores)\n",
        "    scores = pd.Series(scores)\n",
        "    scores.min(), scores.mean(), scores.max()\n",
        "    print('Cross-Validation Accuracy min,med,mod', scores.min(), scores.mean(), scores.max())\n",
        "\n",
        "\n",
        "    return classification_report(test_predictionRF, Y_test), confusion_matrix(test_predictionRF, Y_test)"
      ]
    },
    {
      "cell_type": "code",
      "execution_count": null,
      "id": "ca4d26df",
      "metadata": {
        "id": "ca4d26df",
        "outputId": "7cd77668-60f8-4ec7-db00-541e689cac37"
      },
      "outputs": [
        {
          "name": "stdout",
          "output_type": "stream",
          "text": [
            "Cross-Validation Accuracy Scores [0.828      0.8256     0.83142857 0.82777143]\n",
            "Cross-Validation Accuracy min,med,mod 0.8256 0.8282 0.8314285714285714\n",
            "Results of Random Forest Classifier on TF-IDF Vectorizer\n",
            "\n",
            "              precision    recall  f1-score   support\n",
            "\n",
            "           0       0.80      0.85      0.82      6971\n",
            "           1       0.86      0.81      0.84      8029\n",
            "\n",
            "    accuracy                           0.83     15000\n",
            "   macro avg       0.83      0.83      0.83     15000\n",
            "weighted avg       0.83      0.83      0.83     15000\n",
            "\n",
            "[[5942 1029]\n",
            " [1528 6501]]\n"
          ]
        },
        {
          "data": {
            "text/plain": [
              "<AxesSubplot:>"
            ]
          },
          "execution_count": 119,
          "metadata": {},
          "output_type": "execute_result"
        },
        {
          "data": {
            "image/png": "[encoded data removed]",
            "text/plain": [
              "<Figure size 432x288 with 2 Axes>"
            ]
          },
          "metadata": {
            "needs_background": "light"
          },
          "output_type": "display_data"
        }
      ],
      "source": [
        "from sklearn.metrics import classification_report, confusion_matrix\n",
        "classification_report , confusion_matrix = RF_classifier(train_vecs, Y_train, test_vecs, Y_test)\n",
        "print('Results of Random Forest Classifier on TF-IDF Vectorizer\\n')\n",
        "print(classification_report)\n",
        "print(confusion_matrix)\n",
        "\n",
        "\n",
        "import seaborn as sns\n",
        "sns.heatmap(confusion_matrix, annot=True)"
      ]
    },
    {
      "cell_type": "code",
      "execution_count": null,
      "id": "c78d36f1",
      "metadata": {
        "id": "c78d36f1",
        "outputId": "033b9eb2-adbe-47de-cbbb-ae73e1d95deb"
      },
      "outputs": [
        {
          "data": {
            "text/plain": [
              "<AxesSubplot:>"
            ]
          },
          "execution_count": 120,
          "metadata": {},
          "output_type": "execute_result"
        },
        {
          "data": {
            "image/png": "[encoded data removed]",
            "text/plain": [
              "<Figure size 432x288 with 2 Axes>"
            ]
          },
          "metadata": {
            "needs_background": "light"
          },
          "output_type": "display_data"
        }
      ],
      "source": [
        "sns.heatmap(confusion_matrix/np.sum(confusion_matrix), annot=True, fmt='.2%', cmap='Blues')"
      ]
    },
    {
      "cell_type": "code",
      "execution_count": null,
      "id": "b07faf76",
      "metadata": {
        "id": "b07faf76"
      },
      "outputs": [],
      "source": []
    }
  ],
  "metadata": {
    "kernelspec": {
      "display_name": "Python 3 (ipykernel)",
      "language": "python",
      "name": "python3"
    },
    "language_info": {
      "codemirror_mode": {
        "name": "ipython",
        "version": 3
      },
      "file_extension": ".py",
      "mimetype": "text/x-python",
      "name": "python",
      "nbconvert_exporter": "python",
      "pygments_lexer": "ipython3",
      "version": "3.9.12"
    },
    "colab": {
      "provenance": []
    }
  },
  "nbformat": 4,
  "nbformat_minor": 5
}